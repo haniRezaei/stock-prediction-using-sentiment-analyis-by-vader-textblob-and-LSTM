{
  "nbformat": 4,
  "nbformat_minor": 0,
  "metadata": {
    "colab": {
      "provenance": []
    },
    "kernelspec": {
      "name": "python3",
      "display_name": "Python 3"
    },
    "language_info": {
      "name": "python"
    }
  },
  "cells": [
    {
      "cell_type": "code",
      "execution_count": 25,
      "metadata": {
        "colab": {
          "base_uri": "https://localhost:8080/"
        },
        "id": "kvI6JZHM7_6n",
        "outputId": "d0af541a-66b6-4242-83e0-a108d1596028"
      },
      "outputs": [
        {
          "output_type": "stream",
          "name": "stderr",
          "text": [
            "[nltk_data] Downloading package stopwords to /root/nltk_data...\n",
            "[nltk_data]   Package stopwords is already up-to-date!\n",
            "[nltk_data] Downloading package punkt to /root/nltk_data...\n",
            "[nltk_data]   Package punkt is already up-to-date!\n",
            "[nltk_data] Downloading package wordnet to /root/nltk_data...\n",
            "[nltk_data]   Package wordnet is already up-to-date!\n",
            "[nltk_data] Downloading package omw-1.4 to /root/nltk_data...\n",
            "[nltk_data]   Package omw-1.4 is already up-to-date!\n",
            "[nltk_data] Downloading package punkt_tab to /root/nltk_data...\n",
            "[nltk_data]   Package punkt_tab is already up-to-date!\n",
            "[nltk_data] Downloading package vader_lexicon to /root/nltk_data...\n",
            "[nltk_data]   Package vader_lexicon is already up-to-date!\n"
          ]
        },
        {
          "output_type": "execute_result",
          "data": {
            "text/plain": [
              "True"
            ]
          },
          "metadata": {},
          "execution_count": 25
        }
      ],
      "source": [
        "import numpy as np\n",
        "import pandas as pd\n",
        "import seaborn as sns\n",
        "import matplotlib.pyplot as plt\n",
        "\n",
        "import re\n",
        "import nltk\n",
        "from nltk.tokenize import word_tokenize\n",
        "from nltk.corpus import stopwords\n",
        "from nltk.stem import WordNetLemmatizer\n",
        "\n",
        "from sklearn.feature_extraction.text import CountVectorizer\n",
        "from sklearn.feature_extraction.text import TfidfVectorizer\n",
        "from sklearn.linear_model import LogisticRegression\n",
        "from sklearn.neighbors import KNeighborsClassifier\n",
        "from sklearn.svm import SVC\n",
        "from sklearn import svm\n",
        "from sklearn.tree import DecisionTreeClassifier\n",
        "from sklearn.naive_bayes import MultinomialNB, GaussianNB\n",
        "from sklearn.discriminant_analysis import LinearDiscriminantAnalysis\n",
        "from sklearn.ensemble import RandomForestClassifier\n",
        "from xgboost import XGBClassifier\n",
        "import xgboost as xgb\n",
        "from sklearn.discriminant_analysis import LinearDiscriminantAnalysis\n",
        "from sklearn.model_selection import StratifiedKFold\n",
        "from sklearn.model_selection import cross_val_score\n",
        "from sklearn.model_selection import train_test_split\n",
        "from sklearn.metrics import classification_report, accuracy_score, confusion_matrix\n",
        "from sklearn.metrics import precision_score, recall_score\n",
        "from imblearn.over_sampling import SMOTE\n",
        "from sklearn.preprocessing import StandardScaler\n",
        "from sklearn.discriminant_analysis import LinearDiscriminantAnalysis\n",
        "from sklearn.metrics import accuracy_score, classification_report, confusion_matrix\n",
        "\n",
        "from textblob import TextBlob\n",
        "\n",
        "import torch\n",
        "from torch.utils.data import Dataset, DataLoader\n",
        "import torch.nn as nn\n",
        "import torch.nn.functional as F\n",
        "import torch.optim as optim\n",
        "from torch.utils.data import Dataset, DataLoader\n",
        "\n",
        "import tensorflow as tf\n",
        "from tensorflow.keras.models import Model, Sequential\n",
        "from tensorflow.keras.layers import LSTM, Dense, Dropout, Conv1D, MaxPooling1D, Input, Layer\n",
        "from tensorflow.keras.callbacks import EarlyStopping, ReduceLROnPlateau\n",
        "from tensorflow.keras import backend as K\n",
        "from sklearn.preprocessing import MinMaxScaler\n",
        "from tensorflow.keras.models import Sequential\n",
        "from tensorflow.keras.layers import LSTM, Dense, Dropout\n",
        "from tensorflow.keras.callbacks import EarlyStopping\n",
        "from sklearn.metrics import mean_squared_error, mean_absolute_error, r2_score, mean_absolute_percentage_error\n",
        "\n",
        "\n",
        "nltk.download('stopwords')\n",
        "nltk.download('punkt')\n",
        "nltk.download('wordnet')\n",
        "nltk.download('omw-1.4')\n",
        "nltk.download('punkt_tab')\n",
        "nltk.download('vader_lexicon')"
      ]
    },
    {
      "cell_type": "code",
      "source": [
        "from google.colab import files\n",
        "uploaded=files.upload()"
      ],
      "metadata": {
        "colab": {
          "base_uri": "https://localhost:8080/",
          "height": 73
        },
        "id": "iNbxhdix8DjL",
        "outputId": "c621b743-dd55-4dd0-ab15-f85a3107ad0d"
      },
      "execution_count": 3,
      "outputs": [
        {
          "output_type": "display_data",
          "data": {
            "text/plain": [
              "<IPython.core.display.HTML object>"
            ],
            "text/html": [
              "\n",
              "     <input type=\"file\" id=\"files-5a3dccba-fbb9-4efb-83a2-6829969bd98a\" name=\"files[]\" multiple disabled\n",
              "        style=\"border:none\" />\n",
              "     <output id=\"result-5a3dccba-fbb9-4efb-83a2-6829969bd98a\">\n",
              "      Upload widget is only available when the cell has been executed in the\n",
              "      current browser session. Please rerun this cell to enable.\n",
              "      </output>\n",
              "      <script>// Copyright 2017 Google LLC\n",
              "//\n",
              "// Licensed under the Apache License, Version 2.0 (the \"License\");\n",
              "// you may not use this file except in compliance with the License.\n",
              "// You may obtain a copy of the License at\n",
              "//\n",
              "//      http://www.apache.org/licenses/LICENSE-2.0\n",
              "//\n",
              "// Unless required by applicable law or agreed to in writing, software\n",
              "// distributed under the License is distributed on an \"AS IS\" BASIS,\n",
              "// WITHOUT WARRANTIES OR CONDITIONS OF ANY KIND, either express or implied.\n",
              "// See the License for the specific language governing permissions and\n",
              "// limitations under the License.\n",
              "\n",
              "/**\n",
              " * @fileoverview Helpers for google.colab Python module.\n",
              " */\n",
              "(function(scope) {\n",
              "function span(text, styleAttributes = {}) {\n",
              "  const element = document.createElement('span');\n",
              "  element.textContent = text;\n",
              "  for (const key of Object.keys(styleAttributes)) {\n",
              "    element.style[key] = styleAttributes[key];\n",
              "  }\n",
              "  return element;\n",
              "}\n",
              "\n",
              "// Max number of bytes which will be uploaded at a time.\n",
              "const MAX_PAYLOAD_SIZE = 100 * 1024;\n",
              "\n",
              "function _uploadFiles(inputId, outputId) {\n",
              "  const steps = uploadFilesStep(inputId, outputId);\n",
              "  const outputElement = document.getElementById(outputId);\n",
              "  // Cache steps on the outputElement to make it available for the next call\n",
              "  // to uploadFilesContinue from Python.\n",
              "  outputElement.steps = steps;\n",
              "\n",
              "  return _uploadFilesContinue(outputId);\n",
              "}\n",
              "\n",
              "// This is roughly an async generator (not supported in the browser yet),\n",
              "// where there are multiple asynchronous steps and the Python side is going\n",
              "// to poll for completion of each step.\n",
              "// This uses a Promise to block the python side on completion of each step,\n",
              "// then passes the result of the previous step as the input to the next step.\n",
              "function _uploadFilesContinue(outputId) {\n",
              "  const outputElement = document.getElementById(outputId);\n",
              "  const steps = outputElement.steps;\n",
              "\n",
              "  const next = steps.next(outputElement.lastPromiseValue);\n",
              "  return Promise.resolve(next.value.promise).then((value) => {\n",
              "    // Cache the last promise value to make it available to the next\n",
              "    // step of the generator.\n",
              "    outputElement.lastPromiseValue = value;\n",
              "    return next.value.response;\n",
              "  });\n",
              "}\n",
              "\n",
              "/**\n",
              " * Generator function which is called between each async step of the upload\n",
              " * process.\n",
              " * @param {string} inputId Element ID of the input file picker element.\n",
              " * @param {string} outputId Element ID of the output display.\n",
              " * @return {!Iterable<!Object>} Iterable of next steps.\n",
              " */\n",
              "function* uploadFilesStep(inputId, outputId) {\n",
              "  const inputElement = document.getElementById(inputId);\n",
              "  inputElement.disabled = false;\n",
              "\n",
              "  const outputElement = document.getElementById(outputId);\n",
              "  outputElement.innerHTML = '';\n",
              "\n",
              "  const pickedPromise = new Promise((resolve) => {\n",
              "    inputElement.addEventListener('change', (e) => {\n",
              "      resolve(e.target.files);\n",
              "    });\n",
              "  });\n",
              "\n",
              "  const cancel = document.createElement('button');\n",
              "  inputElement.parentElement.appendChild(cancel);\n",
              "  cancel.textContent = 'Cancel upload';\n",
              "  const cancelPromise = new Promise((resolve) => {\n",
              "    cancel.onclick = () => {\n",
              "      resolve(null);\n",
              "    };\n",
              "  });\n",
              "\n",
              "  // Wait for the user to pick the files.\n",
              "  const files = yield {\n",
              "    promise: Promise.race([pickedPromise, cancelPromise]),\n",
              "    response: {\n",
              "      action: 'starting',\n",
              "    }\n",
              "  };\n",
              "\n",
              "  cancel.remove();\n",
              "\n",
              "  // Disable the input element since further picks are not allowed.\n",
              "  inputElement.disabled = true;\n",
              "\n",
              "  if (!files) {\n",
              "    return {\n",
              "      response: {\n",
              "        action: 'complete',\n",
              "      }\n",
              "    };\n",
              "  }\n",
              "\n",
              "  for (const file of files) {\n",
              "    const li = document.createElement('li');\n",
              "    li.append(span(file.name, {fontWeight: 'bold'}));\n",
              "    li.append(span(\n",
              "        `(${file.type || 'n/a'}) - ${file.size} bytes, ` +\n",
              "        `last modified: ${\n",
              "            file.lastModifiedDate ? file.lastModifiedDate.toLocaleDateString() :\n",
              "                                    'n/a'} - `));\n",
              "    const percent = span('0% done');\n",
              "    li.appendChild(percent);\n",
              "\n",
              "    outputElement.appendChild(li);\n",
              "\n",
              "    const fileDataPromise = new Promise((resolve) => {\n",
              "      const reader = new FileReader();\n",
              "      reader.onload = (e) => {\n",
              "        resolve(e.target.result);\n",
              "      };\n",
              "      reader.readAsArrayBuffer(file);\n",
              "    });\n",
              "    // Wait for the data to be ready.\n",
              "    let fileData = yield {\n",
              "      promise: fileDataPromise,\n",
              "      response: {\n",
              "        action: 'continue',\n",
              "      }\n",
              "    };\n",
              "\n",
              "    // Use a chunked sending to avoid message size limits. See b/62115660.\n",
              "    let position = 0;\n",
              "    do {\n",
              "      const length = Math.min(fileData.byteLength - position, MAX_PAYLOAD_SIZE);\n",
              "      const chunk = new Uint8Array(fileData, position, length);\n",
              "      position += length;\n",
              "\n",
              "      const base64 = btoa(String.fromCharCode.apply(null, chunk));\n",
              "      yield {\n",
              "        response: {\n",
              "          action: 'append',\n",
              "          file: file.name,\n",
              "          data: base64,\n",
              "        },\n",
              "      };\n",
              "\n",
              "      let percentDone = fileData.byteLength === 0 ?\n",
              "          100 :\n",
              "          Math.round((position / fileData.byteLength) * 100);\n",
              "      percent.textContent = `${percentDone}% done`;\n",
              "\n",
              "    } while (position < fileData.byteLength);\n",
              "  }\n",
              "\n",
              "  // All done.\n",
              "  yield {\n",
              "    response: {\n",
              "      action: 'complete',\n",
              "    }\n",
              "  };\n",
              "}\n",
              "\n",
              "scope.google = scope.google || {};\n",
              "scope.google.colab = scope.google.colab || {};\n",
              "scope.google.colab._files = {\n",
              "  _uploadFiles,\n",
              "  _uploadFilesContinue,\n",
              "};\n",
              "})(self);\n",
              "</script> "
            ]
          },
          "metadata": {}
        },
        {
          "output_type": "stream",
          "name": "stdout",
          "text": [
            "Saving upload_DJIA_table.csv to upload_DJIA_table.csv\n"
          ]
        }
      ]
    },
    {
      "cell_type": "code",
      "source": [
        "df=pd.read_csv(\"Combined_News_DJIA.csv\")\n",
        "dj=pd.read_csv(\"upload_DJIA_table.csv\")"
      ],
      "metadata": {
        "id": "1I59_4Yb86Gj"
      },
      "execution_count": 4,
      "outputs": []
    },
    {
      "cell_type": "code",
      "source": [
        "# Combine news headlines as one column\n",
        "df[\"combined news\"]=df.loc[:,\"Top1\":\"Top25\"].astype(str).agg(\" \".join,axis=1)"
      ],
      "metadata": {
        "id": "kT6JzgBp9E0e"
      },
      "execution_count": 5,
      "outputs": []
    },
    {
      "cell_type": "code",
      "source": [
        "#cleaning the text column\n",
        "\n",
        "stop=set(stopwords.words(\"english\"))\n",
        "lemmatizer=WordNetLemmatizer()\n",
        "\n",
        "def clean_text(text):\n",
        "  text=re.sub(r\"b[\\\"']\",\" \",text.lower())\n",
        "  text=re.sub(r\"\\[.*?\\]\\(.*?\\)\",\"\",text)\n",
        "  text=re.sub(r\"[^\\w\\s]\",\" \",text)\n",
        "  text=re.sub(r\"\\s+\",\" \",text)\n",
        "  tokens=word_tokenize(text)\n",
        "  output=[lemmatizer.lemmatize(words) for words in tokens if words.isalpha() and words not in stop]\n",
        "  return \" \".join(output)\n",
        "\n",
        "df[\"clean text\"]=df[\"combined news\"].apply(clean_text)"
      ],
      "metadata": {
        "id": "oqJkXJQr9FW2"
      },
      "execution_count": 6,
      "outputs": []
    },
    {
      "cell_type": "code",
      "source": [
        "\n",
        "#train test split\n",
        "train = df[df['Date']<'20150101']\n",
        "test = df[df['Date'] > '20141231']"
      ],
      "metadata": {
        "id": "2FNWBidV9Ig0"
      },
      "execution_count": 7,
      "outputs": []
    },
    {
      "cell_type": "code",
      "source": [
        "#merge the news dataset and stock price dataset\n",
        "df_merged=pd.merge(df,dj,on=\"Date\",how=\"inner\")"
      ],
      "metadata": {
        "id": "-0S088kS9VD7"
      },
      "execution_count": 8,
      "outputs": []
    },
    {
      "cell_type": "code",
      "source": [
        "!pip install vaderSentiment"
      ],
      "metadata": {
        "colab": {
          "base_uri": "https://localhost:8080/"
        },
        "id": "72In77Pc9bdz",
        "outputId": "3244c9d1-60ae-4ea7-9187-a0f5649aa4b1"
      },
      "execution_count": 9,
      "outputs": [
        {
          "output_type": "stream",
          "name": "stdout",
          "text": [
            "Collecting vaderSentiment\n",
            "  Downloading vaderSentiment-3.3.2-py2.py3-none-any.whl.metadata (572 bytes)\n",
            "Requirement already satisfied: requests in /usr/local/lib/python3.11/dist-packages (from vaderSentiment) (2.32.3)\n",
            "Requirement already satisfied: charset-normalizer<4,>=2 in /usr/local/lib/python3.11/dist-packages (from requests->vaderSentiment) (3.4.2)\n",
            "Requirement already satisfied: idna<4,>=2.5 in /usr/local/lib/python3.11/dist-packages (from requests->vaderSentiment) (3.10)\n",
            "Requirement already satisfied: urllib3<3,>=1.21.1 in /usr/local/lib/python3.11/dist-packages (from requests->vaderSentiment) (2.5.0)\n",
            "Requirement already satisfied: certifi>=2017.4.17 in /usr/local/lib/python3.11/dist-packages (from requests->vaderSentiment) (2025.7.14)\n",
            "Downloading vaderSentiment-3.3.2-py2.py3-none-any.whl (125 kB)\n",
            "\u001b[2K   \u001b[90m━━━━━━━━━━━━━━━━━━━━━━━━━━━━━━━━━━━━━━━━\u001b[0m \u001b[32m126.0/126.0 kB\u001b[0m \u001b[31m1.4 MB/s\u001b[0m eta \u001b[36m0:00:00\u001b[0m\n",
            "\u001b[?25hInstalling collected packages: vaderSentiment\n",
            "Successfully installed vaderSentiment-3.3.2\n"
          ]
        }
      ]
    },
    {
      "cell_type": "code",
      "source": [
        "#we use VADER Sentiment Analyzer to evaluate the sentiment of \"clean text\" column\n",
        "\n",
        "from vaderSentiment.vaderSentiment import SentimentIntensityAnalyzer\n",
        "\n",
        "analyse=SentimentIntensityAnalyzer()\n",
        "analyse.polarity_scores(df[\"clean text\"][1])   # Calculate sentiment scores of the text"
      ],
      "metadata": {
        "colab": {
          "base_uri": "https://localhost:8080/"
        },
        "id": "itpMm3Cq9fq3",
        "outputId": "f11a183d-61b6-48a8-ce82-740e637d6763"
      },
      "execution_count": 10,
      "outputs": [
        {
          "output_type": "execute_result",
          "data": {
            "text/plain": [
              "{'neg': 0.284, 'neu': 0.613, 'pos': 0.103, 'compound': -0.9895}"
            ]
          },
          "metadata": {},
          "execution_count": 10
        }
      ]
    },
    {
      "cell_type": "code",
      "source": [
        "# define a function to apply VADER sentiment analysis to any given text\n",
        "def get_sentiment(text):\n",
        "    return analyse.polarity_scores(str(text))"
      ],
      "metadata": {
        "id": "ZCh6RrpF9jIO"
      },
      "execution_count": 15,
      "outputs": []
    },
    {
      "cell_type": "code",
      "source": [
        "# three functions to extract sentiment features from TextBlob and VADER\n",
        "\n",
        "def get_subjectivity(text):\n",
        "    return TextBlob(text).sentiment.subjectivity\n",
        "\n",
        "def get_polarity(text):\n",
        "    return TextBlob(text).sentiment.polarity\n",
        "\n",
        "def getSIA(text):\n",
        "    sia = SentimentIntensityAnalyzer()\n",
        "    sentiment= sia.polarity_scores(text)\n",
        "    return sentiment"
      ],
      "metadata": {
        "id": "j2Iq_Xs49l-3"
      },
      "execution_count": 16,
      "outputs": []
    },
    {
      "cell_type": "code",
      "source": [
        "# apply the TextBlob sentiment functions to the clean text column in df_merged and store the results in two new columns: 'Subjectivity' and 'Polarity'\n",
        "\n",
        "df_merged['Subjectivity'] = df_merged['clean text'].apply(get_subjectivity)\n",
        "df_merged['Polarity'] = df_merged['clean text'].apply(get_polarity)"
      ],
      "metadata": {
        "id": "3oLyQ_Mb9oq1"
      },
      "execution_count": 17,
      "outputs": []
    },
    {
      "cell_type": "code",
      "source": [
        "# get Sentiment score for each day\n",
        "# use VADER to calculate four types of sentiment scores\n",
        "\n",
        "compound = []\n",
        "neg = []\n",
        "pos = []\n",
        "neu = []\n",
        "\n",
        "for i in range(len(df[\"clean text\"])):\n",
        "    SIA = get_sentiment(df[\"clean text\"].iloc[i])\n",
        "    compound.append(SIA[\"compound\"])\n",
        "    neg.append(SIA[\"neg\"])\n",
        "    pos.append(SIA[\"pos\"])\n",
        "    neu.append(SIA[\"neu\"])\n",
        "\n",
        "df[\"compound\"] = compound\n",
        "df[\"neg\"] = neg\n",
        "df[\"pos\"] = pos\n",
        "df[\"neu\"] = neu"
      ],
      "metadata": {
        "id": "jMMQBBnP9rdD"
      },
      "execution_count": 18,
      "outputs": []
    },
    {
      "cell_type": "code",
      "source": [
        "df_merged[\"compound\"]=compound\n",
        "df_merged[\"neg\"]=neg\n",
        "df_merged[\"pos\"]=pos\n",
        "df_merged[\"neu\"]=neu"
      ],
      "metadata": {
        "id": "VmaAwjZa9uag"
      },
      "execution_count": 19,
      "outputs": []
    },
    {
      "cell_type": "code",
      "source": [
        "# Prepare Features & Target\n",
        "features = ['Open', 'High', 'Low', 'Close', 'Volume', 'Adj Close',\n",
        "            'compound', 'neg', 'pos', 'neu', 'Polarity', 'Subjectivity']\n",
        "X = df_merged[features]\n",
        "y = df_merged[\"Label\"]"
      ],
      "metadata": {
        "id": "nL4DlTkikgZE"
      },
      "execution_count": 21,
      "outputs": []
    },
    {
      "cell_type": "code",
      "source": [
        "# Time-based Split\n",
        "train = df_merged[df_merged['Date'] < '20150101']\n",
        "test  = df_merged[df_merged['Date'] > '20141231']\n",
        "train_idx = train.index\n",
        "test_idx = test.index\n",
        "\n",
        "X_train = X.loc[train_idx]\n",
        "X_test  = X.loc[test_idx]\n",
        "y_train = y.loc[train_idx]\n",
        "y_test  = y.loc[test_idx]"
      ],
      "metadata": {
        "id": "issrfHodknOc"
      },
      "execution_count": 22,
      "outputs": []
    },
    {
      "cell_type": "code",
      "source": [
        "# Standardize\n",
        "scaler = StandardScaler()\n",
        "X_train_scaled = scaler.fit_transform(X_train)\n",
        "X_test_scaled  = scaler.transform(X_test)"
      ],
      "metadata": {
        "id": "7T3TKROglPWN"
      },
      "execution_count": null,
      "outputs": []
    },
    {
      "cell_type": "code",
      "source": [
        "# evaluate seven machine learning classification models for predicting stock movement\n",
        "\n",
        "# the models we want to test\n",
        "models = {\n",
        "    \"LogisticRegression\": LogisticRegression(max_iter=500),\n",
        "    \"Naive Bayes\": GaussianNB(),\n",
        "    \"SVC\": SVC(),\n",
        "    \"KNN\": KNeighborsClassifier(),\n",
        "    \"xgboost\": XGBClassifier(),\n",
        "    \"Random Forest\": RandomForestClassifier(),\n",
        "    \"Linear Discriminant Analysis\": LinearDiscriminantAnalysis()\n",
        "}\n",
        "for name, model in models.items():\n",
        "    if name==\"Naive Bayes\":\n",
        "        model.fit(X_train,y_train)\n",
        "        y_pred=model.predict(X_test)\n",
        "        y_pred_train=model.predict(X_train)\n",
        "    else:\n",
        "        model.fit(X_train,y_train)\n",
        "        y_pred=model.predict(X_test)\n",
        "        y_pred_train=model.predict(X_train)\n",
        "    print(f\"{name}\")\n",
        "    print(\"train accuracy: \",accuracy_score(y_train,y_pred_train))\n",
        "    print(\"test accuracy: \",accuracy_score(y_test,y_pred))\n",
        "    print(classification_report(y_test,y_pred))\n",
        "    print(confusion_matrix(y_test,y_pred))\n",
        "    print(\"*\"*50)"
      ],
      "metadata": {
        "colab": {
          "base_uri": "https://localhost:8080/"
        },
        "id": "3Kkdjyt5VF9C",
        "outputId": "92204ab2-745a-4336-83e1-c86ca859461e"
      },
      "execution_count": 24,
      "outputs": [
        {
          "output_type": "stream",
          "name": "stdout",
          "text": [
            "LogisticRegression\n",
            "train accuracy:  0.9860440150295223\n",
            "test accuracy:  0.9788359788359788\n",
            "              precision    recall  f1-score   support\n",
            "\n",
            "           0       0.98      0.98      0.98       186\n",
            "           1       0.98      0.98      0.98       192\n",
            "\n",
            "    accuracy                           0.98       378\n",
            "   macro avg       0.98      0.98      0.98       378\n",
            "weighted avg       0.98      0.98      0.98       378\n",
            "\n",
            "[[182   4]\n",
            " [  4 188]]\n",
            "**************************************************\n",
            "Naive Bayes\n",
            "train accuracy:  0.548040794417606\n",
            "test accuracy:  0.5105820105820106\n",
            "              precision    recall  f1-score   support\n",
            "\n",
            "           0       0.60      0.02      0.03       186\n",
            "           1       0.51      0.99      0.67       192\n",
            "\n",
            "    accuracy                           0.51       378\n",
            "   macro avg       0.55      0.50      0.35       378\n",
            "weighted avg       0.55      0.51      0.36       378\n",
            "\n",
            "[[  3 183]\n",
            " [  2 190]]\n",
            "**************************************************\n",
            "SVC\n",
            "train accuracy:  0.5491143317230274\n",
            "test accuracy:  0.5105820105820106\n",
            "              precision    recall  f1-score   support\n",
            "\n",
            "           0       0.60      0.02      0.03       186\n",
            "           1       0.51      0.99      0.67       192\n",
            "\n",
            "    accuracy                           0.51       378\n",
            "   macro avg       0.55      0.50      0.35       378\n",
            "weighted avg       0.55      0.51      0.36       378\n",
            "\n",
            "[[  3 183]\n",
            " [  2 190]]\n",
            "**************************************************\n",
            "KNN\n",
            "train accuracy:  0.6886741814278046\n",
            "test accuracy:  0.6111111111111112\n",
            "              precision    recall  f1-score   support\n",
            "\n",
            "           0       0.62      0.55      0.58       186\n",
            "           1       0.61      0.67      0.64       192\n",
            "\n",
            "    accuracy                           0.61       378\n",
            "   macro avg       0.61      0.61      0.61       378\n",
            "weighted avg       0.61      0.61      0.61       378\n",
            "\n",
            "[[103  83]\n",
            " [ 64 128]]\n",
            "**************************************************\n",
            "xgboost\n",
            "train accuracy:  0.998389694041868\n",
            "test accuracy:  0.9576719576719577\n",
            "              precision    recall  f1-score   support\n",
            "\n",
            "           0       0.97      0.94      0.96       186\n",
            "           1       0.94      0.97      0.96       192\n",
            "\n",
            "    accuracy                           0.96       378\n",
            "   macro avg       0.96      0.96      0.96       378\n",
            "weighted avg       0.96      0.96      0.96       378\n",
            "\n",
            "[[175  11]\n",
            " [  5 187]]\n",
            "**************************************************\n",
            "Random Forest\n",
            "train accuracy:  1.0\n",
            "test accuracy:  0.9417989417989417\n",
            "              precision    recall  f1-score   support\n",
            "\n",
            "           0       0.94      0.94      0.94       186\n",
            "           1       0.94      0.94      0.94       192\n",
            "\n",
            "    accuracy                           0.94       378\n",
            "   macro avg       0.94      0.94      0.94       378\n",
            "weighted avg       0.94      0.94      0.94       378\n",
            "\n",
            "[[175  11]\n",
            " [ 11 181]]\n",
            "**************************************************\n",
            "Linear Discriminant Analysis\n",
            "train accuracy:  0.9323671497584541\n",
            "test accuracy:  0.9497354497354498\n",
            "              precision    recall  f1-score   support\n",
            "\n",
            "           0       0.98      0.91      0.95       186\n",
            "           1       0.92      0.98      0.95       192\n",
            "\n",
            "    accuracy                           0.95       378\n",
            "   macro avg       0.95      0.95      0.95       378\n",
            "weighted avg       0.95      0.95      0.95       378\n",
            "\n",
            "[[170  16]\n",
            " [  3 189]]\n",
            "**************************************************\n"
          ]
        }
      ]
    },
    {
      "cell_type": "code",
      "source": [
        "import pandas as pd\n",
        "from sklearn.metrics import accuracy_score, f1_score, classification_report\n",
        "\n",
        "# Define your models\n",
        "models = {\n",
        "    \"Logistic Regression\": LogisticRegression(max_iter=500),\n",
        "    \"Naive Bayes\": GaussianNB(),\n",
        "    \"SVC\": SVC(),\n",
        "    \"KNN\": KNeighborsClassifier(),\n",
        "    \"XGBoost\": XGBClassifier(),\n",
        "    \"Random Forest\": RandomForestClassifier(),\n",
        "    \"LDA\": LinearDiscriminantAnalysis()\n",
        "}\n",
        "\n",
        "# List to store results\n",
        "results = []\n",
        "\n",
        "# Loop over each model\n",
        "for name, model in models.items():\n",
        "    # Fit model\n",
        "    model.fit(X_train, y_train)\n",
        "\n",
        "    # Predict\n",
        "    y_pred_train = model.predict(X_train)\n",
        "    y_pred_test = model.predict(X_test)\n",
        "\n",
        "    # Compute metrics\n",
        "    train_acc = accuracy_score(y_train, y_pred_train)\n",
        "    test_acc = accuracy_score(y_test, y_pred_test)\n",
        "    f1 = f1_score(y_test, y_pred_test, average='weighted')  # or macro/micro\n",
        "\n",
        "    # Append results\n",
        "    results.append({\n",
        "        \"Model\": name,\n",
        "        \"Train Accuracy\": round(train_acc, 4),\n",
        "        \"Test Accuracy\": round(test_acc, 4),\n",
        "        \"F1 Score\": round(f1, 4)\n",
        "    })\n",
        "\n",
        "# Convert to DataFrame\n",
        "results_df = pd.DataFrame(results)\n",
        "\n",
        "# Display\n",
        "print(results_df.sort_values(by=\"Test Accuracy\", ascending=False))\n"
      ],
      "metadata": {
        "colab": {
          "base_uri": "https://localhost:8080/"
        },
        "id": "HLJZxAc_nnpE",
        "outputId": "8bc886b5-3451-442c-ab91-1009dab8b298"
      },
      "execution_count": 26,
      "outputs": [
        {
          "output_type": "stream",
          "name": "stdout",
          "text": [
            "                 Model  Train Accuracy  Test Accuracy  F1 Score\n",
            "0  Logistic Regression          0.9860         0.9788    0.9788\n",
            "4              XGBoost          0.9984         0.9577    0.9577\n",
            "6                  LDA          0.9324         0.9497    0.9496\n",
            "5        Random Forest          1.0000         0.9471    0.9471\n",
            "3                  KNN          0.6887         0.6111    0.6098\n",
            "2                  SVC          0.5491         0.5106    0.3571\n",
            "1          Naive Bayes          0.5480         0.5106    0.3571\n"
          ]
        }
      ]
    },
    {
      "cell_type": "markdown",
      "source": [
        "# **Regression**"
      ],
      "metadata": {
        "id": "keFTqNLLm-rG"
      }
    },
    {
      "cell_type": "code",
      "source": [
        "\n",
        "# Use SAME features, but target is 'Adj Close'\n",
        "X = df_merged[features]\n",
        "y = df_merged[[\"Adj Close\"]]\n"
      ],
      "metadata": {
        "id": "QESp51HbCZvI"
      },
      "execution_count": null,
      "outputs": []
    },
    {
      "cell_type": "code",
      "source": [
        "X_train = X.loc[train_idx]\n",
        "X_test  = X.loc[test_idx]\n",
        "y_train = y.loc[train_idx]\n",
        "y_test  = y.loc[test_idx]\n",
        "\n",
        "# --- MinMax Scale ---\n",
        "X_scaler = MinMaxScaler()\n",
        "y_scaler = MinMaxScaler()\n",
        "X_train_scaled = X_scaler.fit_transform(X_train)\n",
        "X_test_scaled  = X_scaler.transform(X_test)\n",
        "y_train_scaled = y_scaler.fit_transform(y_train)\n",
        "y_test_scaled  = y_scaler.transform(y_test)"
      ],
      "metadata": {
        "id": "ExhMhnIICcRn"
      },
      "execution_count": null,
      "outputs": []
    },
    {
      "cell_type": "code",
      "source": [
        "\n",
        "# --- Create Sequences ---\n",
        "SEQ_LEN = 10\n",
        "def create_sequences(X, y, seq_len=SEQ_LEN):\n",
        "    Xs, ys = [], []\n",
        "    for i in range(len(X) - seq_len):\n",
        "        Xs.append(X[i:i+seq_len])\n",
        "        ys.append(y[i+seq_len])\n",
        "    return np.array(Xs), np.array(ys)\n",
        "\n",
        "X_train_seq, y_train_seq = create_sequences(X_train_scaled, y_train_scaled, SEQ_LEN)\n",
        "X_test_seq, y_test_seq = create_sequences(X_test_scaled, y_test_scaled, SEQ_LEN)"
      ],
      "metadata": {
        "id": "R_DdS_B1CfLM"
      },
      "execution_count": null,
      "outputs": []
    },
    {
      "cell_type": "code",
      "source": [
        "\n",
        "# --- LSTM Model ---\n",
        "model = Sequential([\n",
        "    LSTM(128, return_sequences=True, input_shape=(SEQ_LEN, X_train_seq.shape[2])),\n",
        "    Dropout(0.1),\n",
        "    LSTM(64, return_sequences=True),\n",
        "    Dropout(0.1),\n",
        "    LSTM(32),\n",
        "    Dropout(0.1),\n",
        "    Dense(1)\n",
        "])\n",
        "model.compile(optimizer=tf.keras.optimizers.Adam(learning_rate=0.001), loss='mse')\n",
        "\n"
      ],
      "metadata": {
        "colab": {
          "base_uri": "https://localhost:8080/"
        },
        "id": "96gy2GBFCjT-",
        "outputId": "011097b4-e13f-45d0-fe72-dbd38ee7f7a1"
      },
      "execution_count": null,
      "outputs": [
        {
          "output_type": "stream",
          "name": "stderr",
          "text": [
            "/usr/local/lib/python3.11/dist-packages/keras/src/layers/rnn/rnn.py:200: UserWarning: Do not pass an `input_shape`/`input_dim` argument to a layer. When using Sequential models, prefer using an `Input(shape)` object as the first layer in the model instead.\n",
            "  super().__init__(**kwargs)\n"
          ]
        }
      ]
    },
    {
      "cell_type": "code",
      "source": [
        "history = model.fit(\n",
        "    X_train_seq, y_train_seq,\n",
        "    epochs=200,\n",
        "    batch_size=8,\n",
        "    validation_split=0.1,\n",
        "    callbacks=[tf.keras.callbacks.EarlyStopping(monitor='val_loss', patience=20, restore_best_weights=True)],\n",
        "    verbose=1\n",
        ")"
      ],
      "metadata": {
        "colab": {
          "base_uri": "https://localhost:8080/"
        },
        "id": "tXBVwLf5CwU0",
        "outputId": "a962b1ad-6bcd-416b-92ae-649e09f92472"
      },
      "execution_count": null,
      "outputs": [
        {
          "output_type": "stream",
          "name": "stdout",
          "text": [
            "Epoch 1/200\n",
            "\u001b[1m209/209\u001b[0m \u001b[32m━━━━━━━━━━━━━━━━━━━━\u001b[0m\u001b[37m\u001b[0m \u001b[1m10s\u001b[0m 19ms/step - loss: 0.0225 - val_loss: 9.4066e-04\n",
            "Epoch 2/200\n",
            "\u001b[1m209/209\u001b[0m \u001b[32m━━━━━━━━━━━━━━━━━━━━\u001b[0m\u001b[37m\u001b[0m \u001b[1m4s\u001b[0m 17ms/step - loss: 0.0031 - val_loss: 0.0015\n",
            "Epoch 3/200\n",
            "\u001b[1m209/209\u001b[0m \u001b[32m━━━━━━━━━━━━━━━━━━━━\u001b[0m\u001b[37m\u001b[0m \u001b[1m5s\u001b[0m 17ms/step - loss: 0.0026 - val_loss: 7.6102e-04\n",
            "Epoch 4/200\n",
            "\u001b[1m209/209\u001b[0m \u001b[32m━━━━━━━━━━━━━━━━━━━━\u001b[0m\u001b[37m\u001b[0m \u001b[1m3s\u001b[0m 17ms/step - loss: 0.0024 - val_loss: 8.8513e-04\n",
            "Epoch 5/200\n",
            "\u001b[1m209/209\u001b[0m \u001b[32m━━━━━━━━━━━━━━━━━━━━\u001b[0m\u001b[37m\u001b[0m \u001b[1m6s\u001b[0m 22ms/step - loss: 0.0022 - val_loss: 0.0015\n",
            "Epoch 6/200\n",
            "\u001b[1m209/209\u001b[0m \u001b[32m━━━━━━━━━━━━━━━━━━━━\u001b[0m\u001b[37m\u001b[0m \u001b[1m4s\u001b[0m 17ms/step - loss: 0.0020 - val_loss: 0.0014\n",
            "Epoch 7/200\n",
            "\u001b[1m209/209\u001b[0m \u001b[32m━━━━━━━━━━━━━━━━━━━━\u001b[0m\u001b[37m\u001b[0m \u001b[1m4s\u001b[0m 17ms/step - loss: 0.0018 - val_loss: 0.0022\n",
            "Epoch 8/200\n",
            "\u001b[1m209/209\u001b[0m \u001b[32m━━━━━━━━━━━━━━━━━━━━\u001b[0m\u001b[37m\u001b[0m \u001b[1m6s\u001b[0m 22ms/step - loss: 0.0020 - val_loss: 0.0012\n",
            "Epoch 9/200\n",
            "\u001b[1m209/209\u001b[0m \u001b[32m━━━━━━━━━━━━━━━━━━━━\u001b[0m\u001b[37m\u001b[0m \u001b[1m4s\u001b[0m 17ms/step - loss: 0.0018 - val_loss: 7.4241e-04\n",
            "Epoch 10/200\n",
            "\u001b[1m209/209\u001b[0m \u001b[32m━━━━━━━━━━━━━━━━━━━━\u001b[0m\u001b[37m\u001b[0m \u001b[1m4s\u001b[0m 17ms/step - loss: 0.0018 - val_loss: 0.0015\n",
            "Epoch 11/200\n",
            "\u001b[1m209/209\u001b[0m \u001b[32m━━━━━━━━━━━━━━━━━━━━\u001b[0m\u001b[37m\u001b[0m \u001b[1m5s\u001b[0m 25ms/step - loss: 0.0014 - val_loss: 7.6015e-04\n",
            "Epoch 12/200\n",
            "\u001b[1m209/209\u001b[0m \u001b[32m━━━━━━━━━━━━━━━━━━━━\u001b[0m\u001b[37m\u001b[0m \u001b[1m3s\u001b[0m 17ms/step - loss: 0.0015 - val_loss: 8.3353e-04\n",
            "Epoch 13/200\n",
            "\u001b[1m209/209\u001b[0m \u001b[32m━━━━━━━━━━━━━━━━━━━━\u001b[0m\u001b[37m\u001b[0m \u001b[1m5s\u001b[0m 17ms/step - loss: 0.0013 - val_loss: 6.7849e-04\n",
            "Epoch 14/200\n",
            "\u001b[1m209/209\u001b[0m \u001b[32m━━━━━━━━━━━━━━━━━━━━\u001b[0m\u001b[37m\u001b[0m \u001b[1m6s\u001b[0m 19ms/step - loss: 0.0018 - val_loss: 6.7862e-04\n",
            "Epoch 15/200\n",
            "\u001b[1m209/209\u001b[0m \u001b[32m━━━━━━━━━━━━━━━━━━━━\u001b[0m\u001b[37m\u001b[0m \u001b[1m4s\u001b[0m 17ms/step - loss: 0.0014 - val_loss: 0.0011\n",
            "Epoch 16/200\n",
            "\u001b[1m209/209\u001b[0m \u001b[32m━━━━━━━━━━━━━━━━━━━━\u001b[0m\u001b[37m\u001b[0m \u001b[1m3s\u001b[0m 16ms/step - loss: 0.0014 - val_loss: 0.0040\n",
            "Epoch 17/200\n",
            "\u001b[1m209/209\u001b[0m \u001b[32m━━━━━━━━━━━━━━━━━━━━\u001b[0m\u001b[37m\u001b[0m \u001b[1m5s\u001b[0m 22ms/step - loss: 0.0013 - val_loss: 9.5471e-04\n",
            "Epoch 18/200\n",
            "\u001b[1m209/209\u001b[0m \u001b[32m━━━━━━━━━━━━━━━━━━━━\u001b[0m\u001b[37m\u001b[0m \u001b[1m3s\u001b[0m 16ms/step - loss: 0.0011 - val_loss: 8.6905e-04\n",
            "Epoch 19/200\n",
            "\u001b[1m209/209\u001b[0m \u001b[32m━━━━━━━━━━━━━━━━━━━━\u001b[0m\u001b[37m\u001b[0m \u001b[1m5s\u001b[0m 16ms/step - loss: 0.0012 - val_loss: 0.0049\n",
            "Epoch 20/200\n",
            "\u001b[1m209/209\u001b[0m \u001b[32m━━━━━━━━━━━━━━━━━━━━\u001b[0m\u001b[37m\u001b[0m \u001b[1m5s\u001b[0m 22ms/step - loss: 0.0010 - val_loss: 0.0072\n",
            "Epoch 21/200\n",
            "\u001b[1m209/209\u001b[0m \u001b[32m━━━━━━━━━━━━━━━━━━━━\u001b[0m\u001b[37m\u001b[0m \u001b[1m3s\u001b[0m 16ms/step - loss: 0.0011 - val_loss: 0.0027\n",
            "Epoch 22/200\n",
            "\u001b[1m209/209\u001b[0m \u001b[32m━━━━━━━━━━━━━━━━━━━━\u001b[0m\u001b[37m\u001b[0m \u001b[1m5s\u001b[0m 16ms/step - loss: 0.0012 - val_loss: 0.0025\n",
            "Epoch 23/200\n",
            "\u001b[1m209/209\u001b[0m \u001b[32m━━━━━━━━━━━━━━━━━━━━\u001b[0m\u001b[37m\u001b[0m \u001b[1m5s\u001b[0m 22ms/step - loss: 9.6905e-04 - val_loss: 0.0011\n",
            "Epoch 24/200\n",
            "\u001b[1m209/209\u001b[0m \u001b[32m━━━━━━━━━━━━━━━━━━━━\u001b[0m\u001b[37m\u001b[0m \u001b[1m4s\u001b[0m 16ms/step - loss: 9.4330e-04 - val_loss: 0.0033\n",
            "Epoch 25/200\n",
            "\u001b[1m209/209\u001b[0m \u001b[32m━━━━━━━━━━━━━━━━━━━━\u001b[0m\u001b[37m\u001b[0m \u001b[1m4s\u001b[0m 17ms/step - loss: 9.1180e-04 - val_loss: 6.4099e-04\n",
            "Epoch 26/200\n",
            "\u001b[1m209/209\u001b[0m \u001b[32m━━━━━━━━━━━━━━━━━━━━\u001b[0m\u001b[37m\u001b[0m \u001b[1m5s\u001b[0m 26ms/step - loss: 8.7587e-04 - val_loss: 5.8029e-04\n",
            "Epoch 27/200\n",
            "\u001b[1m209/209\u001b[0m \u001b[32m━━━━━━━━━━━━━━━━━━━━\u001b[0m\u001b[37m\u001b[0m \u001b[1m8s\u001b[0m 17ms/step - loss: 8.2763e-04 - val_loss: 5.9285e-04\n",
            "Epoch 28/200\n",
            "\u001b[1m209/209\u001b[0m \u001b[32m━━━━━━━━━━━━━━━━━━━━\u001b[0m\u001b[37m\u001b[0m \u001b[1m5s\u001b[0m 22ms/step - loss: 9.3322e-04 - val_loss: 5.8779e-04\n",
            "Epoch 29/200\n",
            "\u001b[1m209/209\u001b[0m \u001b[32m━━━━━━━━━━━━━━━━━━━━\u001b[0m\u001b[37m\u001b[0m \u001b[1m4s\u001b[0m 16ms/step - loss: 7.2743e-04 - val_loss: 8.0736e-04\n",
            "Epoch 30/200\n",
            "\u001b[1m209/209\u001b[0m \u001b[32m━━━━━━━━━━━━━━━━━━━━\u001b[0m\u001b[37m\u001b[0m \u001b[1m4s\u001b[0m 17ms/step - loss: 7.2601e-04 - val_loss: 6.4164e-04\n",
            "Epoch 31/200\n",
            "\u001b[1m209/209\u001b[0m \u001b[32m━━━━━━━━━━━━━━━━━━━━\u001b[0m\u001b[37m\u001b[0m \u001b[1m5s\u001b[0m 22ms/step - loss: 7.7392e-04 - val_loss: 9.8095e-04\n",
            "Epoch 32/200\n",
            "\u001b[1m209/209\u001b[0m \u001b[32m━━━━━━━━━━━━━━━━━━━━\u001b[0m\u001b[37m\u001b[0m \u001b[1m3s\u001b[0m 17ms/step - loss: 7.6300e-04 - val_loss: 7.8632e-04\n",
            "Epoch 33/200\n",
            "\u001b[1m209/209\u001b[0m \u001b[32m━━━━━━━━━━━━━━━━━━━━\u001b[0m\u001b[37m\u001b[0m \u001b[1m5s\u001b[0m 17ms/step - loss: 7.7401e-04 - val_loss: 0.0019\n",
            "Epoch 34/200\n",
            "\u001b[1m209/209\u001b[0m \u001b[32m━━━━━━━━━━━━━━━━━━━━\u001b[0m\u001b[37m\u001b[0m \u001b[1m7s\u001b[0m 24ms/step - loss: 6.8842e-04 - val_loss: 4.9031e-04\n",
            "Epoch 35/200\n",
            "\u001b[1m209/209\u001b[0m \u001b[32m━━━━━━━━━━━━━━━━━━━━\u001b[0m\u001b[37m\u001b[0m \u001b[1m4s\u001b[0m 17ms/step - loss: 7.5055e-04 - val_loss: 5.2165e-04\n",
            "Epoch 36/200\n",
            "\u001b[1m209/209\u001b[0m \u001b[32m━━━━━━━━━━━━━━━━━━━━\u001b[0m\u001b[37m\u001b[0m \u001b[1m4s\u001b[0m 17ms/step - loss: 7.2691e-04 - val_loss: 6.4828e-04\n",
            "Epoch 37/200\n",
            "\u001b[1m209/209\u001b[0m \u001b[32m━━━━━━━━━━━━━━━━━━━━\u001b[0m\u001b[37m\u001b[0m \u001b[1m5s\u001b[0m 22ms/step - loss: 7.5345e-04 - val_loss: 4.8754e-04\n",
            "Epoch 38/200\n",
            "\u001b[1m209/209\u001b[0m \u001b[32m━━━━━━━━━━━━━━━━━━━━\u001b[0m\u001b[37m\u001b[0m \u001b[1m4s\u001b[0m 17ms/step - loss: 6.5569e-04 - val_loss: 8.6840e-04\n",
            "Epoch 39/200\n",
            "\u001b[1m209/209\u001b[0m \u001b[32m━━━━━━━━━━━━━━━━━━━━\u001b[0m\u001b[37m\u001b[0m \u001b[1m5s\u001b[0m 19ms/step - loss: 6.8143e-04 - val_loss: 6.2930e-04\n",
            "Epoch 40/200\n",
            "\u001b[1m209/209\u001b[0m \u001b[32m━━━━━━━━━━━━━━━━━━━━\u001b[0m\u001b[37m\u001b[0m \u001b[1m5s\u001b[0m 17ms/step - loss: 7.5590e-04 - val_loss: 4.3549e-04\n",
            "Epoch 41/200\n",
            "\u001b[1m209/209\u001b[0m \u001b[32m━━━━━━━━━━━━━━━━━━━━\u001b[0m\u001b[37m\u001b[0m \u001b[1m4s\u001b[0m 17ms/step - loss: 6.2334e-04 - val_loss: 5.0892e-04\n",
            "Epoch 42/200\n",
            "\u001b[1m209/209\u001b[0m \u001b[32m━━━━━━━━━━━━━━━━━━━━\u001b[0m\u001b[37m\u001b[0m \u001b[1m4s\u001b[0m 20ms/step - loss: 6.2511e-04 - val_loss: 7.0444e-04\n",
            "Epoch 43/200\n",
            "\u001b[1m209/209\u001b[0m \u001b[32m━━━━━━━━━━━━━━━━━━━━\u001b[0m\u001b[37m\u001b[0m \u001b[1m4s\u001b[0m 20ms/step - loss: 5.7851e-04 - val_loss: 0.0011\n",
            "Epoch 44/200\n",
            "\u001b[1m209/209\u001b[0m \u001b[32m━━━━━━━━━━━━━━━━━━━━\u001b[0m\u001b[37m\u001b[0m \u001b[1m4s\u001b[0m 17ms/step - loss: 6.3433e-04 - val_loss: 0.0021\n",
            "Epoch 45/200\n",
            "\u001b[1m209/209\u001b[0m \u001b[32m━━━━━━━━━━━━━━━━━━━━\u001b[0m\u001b[37m\u001b[0m \u001b[1m4s\u001b[0m 19ms/step - loss: 6.2833e-04 - val_loss: 0.0012\n",
            "Epoch 46/200\n",
            "\u001b[1m209/209\u001b[0m \u001b[32m━━━━━━━━━━━━━━━━━━━━\u001b[0m\u001b[37m\u001b[0m \u001b[1m5s\u001b[0m 17ms/step - loss: 5.1814e-04 - val_loss: 3.8085e-04\n",
            "Epoch 47/200\n",
            "\u001b[1m209/209\u001b[0m \u001b[32m━━━━━━━━━━━━━━━━━━━━\u001b[0m\u001b[37m\u001b[0m \u001b[1m5s\u001b[0m 17ms/step - loss: 6.6303e-04 - val_loss: 5.0869e-04\n",
            "Epoch 48/200\n",
            "\u001b[1m209/209\u001b[0m \u001b[32m━━━━━━━━━━━━━━━━━━━━\u001b[0m\u001b[37m\u001b[0m \u001b[1m5s\u001b[0m 23ms/step - loss: 7.9761e-04 - val_loss: 4.7277e-04\n",
            "Epoch 49/200\n",
            "\u001b[1m209/209\u001b[0m \u001b[32m━━━━━━━━━━━━━━━━━━━━\u001b[0m\u001b[37m\u001b[0m \u001b[1m4s\u001b[0m 17ms/step - loss: 5.5703e-04 - val_loss: 4.4957e-04\n",
            "Epoch 50/200\n",
            "\u001b[1m209/209\u001b[0m \u001b[32m━━━━━━━━━━━━━━━━━━━━\u001b[0m\u001b[37m\u001b[0m \u001b[1m4s\u001b[0m 17ms/step - loss: 6.3160e-04 - val_loss: 4.3796e-04\n",
            "Epoch 51/200\n",
            "\u001b[1m209/209\u001b[0m \u001b[32m━━━━━━━━━━━━━━━━━━━━\u001b[0m\u001b[37m\u001b[0m \u001b[1m6s\u001b[0m 23ms/step - loss: 6.3357e-04 - val_loss: 4.3661e-04\n",
            "Epoch 52/200\n",
            "\u001b[1m209/209\u001b[0m \u001b[32m━━━━━━━━━━━━━━━━━━━━\u001b[0m\u001b[37m\u001b[0m \u001b[1m4s\u001b[0m 17ms/step - loss: 6.2398e-04 - val_loss: 6.4598e-04\n",
            "Epoch 53/200\n",
            "\u001b[1m209/209\u001b[0m \u001b[32m━━━━━━━━━━━━━━━━━━━━\u001b[0m\u001b[37m\u001b[0m \u001b[1m5s\u001b[0m 17ms/step - loss: 5.4751e-04 - val_loss: 0.0019\n",
            "Epoch 54/200\n",
            "\u001b[1m209/209\u001b[0m \u001b[32m━━━━━━━━━━━━━━━━━━━━\u001b[0m\u001b[37m\u001b[0m \u001b[1m5s\u001b[0m 22ms/step - loss: 5.7057e-04 - val_loss: 2.9394e-04\n",
            "Epoch 55/200\n",
            "\u001b[1m209/209\u001b[0m \u001b[32m━━━━━━━━━━━━━━━━━━━━\u001b[0m\u001b[37m\u001b[0m \u001b[1m4s\u001b[0m 16ms/step - loss: 5.9177e-04 - val_loss: 4.0603e-04\n",
            "Epoch 56/200\n",
            "\u001b[1m209/209\u001b[0m \u001b[32m━━━━━━━━━━━━━━━━━━━━\u001b[0m\u001b[37m\u001b[0m \u001b[1m4s\u001b[0m 17ms/step - loss: 5.7609e-04 - val_loss: 3.9265e-04\n",
            "Epoch 57/200\n",
            "\u001b[1m209/209\u001b[0m \u001b[32m━━━━━━━━━━━━━━━━━━━━\u001b[0m\u001b[37m\u001b[0m \u001b[1m6s\u001b[0m 20ms/step - loss: 6.0232e-04 - val_loss: 5.4760e-04\n",
            "Epoch 58/200\n",
            "\u001b[1m209/209\u001b[0m \u001b[32m━━━━━━━━━━━━━━━━━━━━\u001b[0m\u001b[37m\u001b[0m \u001b[1m4s\u001b[0m 17ms/step - loss: 5.8459e-04 - val_loss: 0.0023\n",
            "Epoch 59/200\n",
            "\u001b[1m209/209\u001b[0m \u001b[32m━━━━━━━━━━━━━━━━━━━━\u001b[0m\u001b[37m\u001b[0m \u001b[1m5s\u001b[0m 19ms/step - loss: 6.2033e-04 - val_loss: 2.9511e-04\n",
            "Epoch 60/200\n",
            "\u001b[1m209/209\u001b[0m \u001b[32m━━━━━━━━━━━━━━━━━━━━\u001b[0m\u001b[37m\u001b[0m \u001b[1m5s\u001b[0m 17ms/step - loss: 5.2296e-04 - val_loss: 5.0980e-04\n",
            "Epoch 61/200\n",
            "\u001b[1m209/209\u001b[0m \u001b[32m━━━━━━━━━━━━━━━━━━━━\u001b[0m\u001b[37m\u001b[0m \u001b[1m5s\u001b[0m 17ms/step - loss: 5.3493e-04 - val_loss: 5.9705e-04\n",
            "Epoch 62/200\n",
            "\u001b[1m209/209\u001b[0m \u001b[32m━━━━━━━━━━━━━━━━━━━━\u001b[0m\u001b[37m\u001b[0m \u001b[1m6s\u001b[0m 21ms/step - loss: 5.1521e-04 - val_loss: 3.7631e-04\n",
            "Epoch 63/200\n",
            "\u001b[1m209/209\u001b[0m \u001b[32m━━━━━━━━━━━━━━━━━━━━\u001b[0m\u001b[37m\u001b[0m \u001b[1m3s\u001b[0m 17ms/step - loss: 5.3691e-04 - val_loss: 3.7297e-04\n",
            "Epoch 64/200\n",
            "\u001b[1m209/209\u001b[0m \u001b[32m━━━━━━━━━━━━━━━━━━━━\u001b[0m\u001b[37m\u001b[0m \u001b[1m4s\u001b[0m 17ms/step - loss: 5.6451e-04 - val_loss: 2.8654e-04\n",
            "Epoch 65/200\n",
            "\u001b[1m209/209\u001b[0m \u001b[32m━━━━━━━━━━━━━━━━━━━━\u001b[0m\u001b[37m\u001b[0m \u001b[1m5s\u001b[0m 22ms/step - loss: 5.1607e-04 - val_loss: 6.5185e-04\n",
            "Epoch 66/200\n",
            "\u001b[1m209/209\u001b[0m \u001b[32m━━━━━━━━━━━━━━━━━━━━\u001b[0m\u001b[37m\u001b[0m \u001b[1m4s\u001b[0m 17ms/step - loss: 6.3611e-04 - val_loss: 2.9480e-04\n",
            "Epoch 67/200\n",
            "\u001b[1m209/209\u001b[0m \u001b[32m━━━━━━━━━━━━━━━━━━━━\u001b[0m\u001b[37m\u001b[0m \u001b[1m4s\u001b[0m 17ms/step - loss: 5.5867e-04 - val_loss: 2.8172e-04\n",
            "Epoch 68/200\n",
            "\u001b[1m209/209\u001b[0m \u001b[32m━━━━━━━━━━━━━━━━━━━━\u001b[0m\u001b[37m\u001b[0m \u001b[1m4s\u001b[0m 21ms/step - loss: 6.0492e-04 - val_loss: 9.5678e-04\n",
            "Epoch 69/200\n",
            "\u001b[1m209/209\u001b[0m \u001b[32m━━━━━━━━━━━━━━━━━━━━\u001b[0m\u001b[37m\u001b[0m \u001b[1m4s\u001b[0m 17ms/step - loss: 6.1990e-04 - val_loss: 0.0021\n",
            "Epoch 70/200\n",
            "\u001b[1m209/209\u001b[0m \u001b[32m━━━━━━━━━━━━━━━━━━━━\u001b[0m\u001b[37m\u001b[0m \u001b[1m5s\u001b[0m 17ms/step - loss: 5.0794e-04 - val_loss: 8.2812e-04\n",
            "Epoch 71/200\n",
            "\u001b[1m209/209\u001b[0m \u001b[32m━━━━━━━━━━━━━━━━━━━━\u001b[0m\u001b[37m\u001b[0m \u001b[1m5s\u001b[0m 22ms/step - loss: 5.2445e-04 - val_loss: 4.3237e-04\n",
            "Epoch 72/200\n",
            "\u001b[1m209/209\u001b[0m \u001b[32m━━━━━━━━━━━━━━━━━━━━\u001b[0m\u001b[37m\u001b[0m \u001b[1m4s\u001b[0m 17ms/step - loss: 4.6708e-04 - val_loss: 3.0807e-04\n",
            "Epoch 73/200\n",
            "\u001b[1m209/209\u001b[0m \u001b[32m━━━━━━━━━━━━━━━━━━━━\u001b[0m\u001b[37m\u001b[0m \u001b[1m4s\u001b[0m 17ms/step - loss: 4.9070e-04 - val_loss: 0.0013\n",
            "Epoch 74/200\n",
            "\u001b[1m209/209\u001b[0m \u001b[32m━━━━━━━━━━━━━━━━━━━━\u001b[0m\u001b[37m\u001b[0m \u001b[1m6s\u001b[0m 22ms/step - loss: 5.3438e-04 - val_loss: 0.0015\n",
            "Epoch 75/200\n",
            "\u001b[1m209/209\u001b[0m \u001b[32m━━━━━━━━━━━━━━━━━━━━\u001b[0m\u001b[37m\u001b[0m \u001b[1m4s\u001b[0m 17ms/step - loss: 5.4367e-04 - val_loss: 4.1225e-04\n",
            "Epoch 76/200\n",
            "\u001b[1m209/209\u001b[0m \u001b[32m━━━━━━━━━━━━━━━━━━━━\u001b[0m\u001b[37m\u001b[0m \u001b[1m4s\u001b[0m 17ms/step - loss: 5.6540e-04 - val_loss: 6.9698e-04\n",
            "Epoch 77/200\n",
            "\u001b[1m209/209\u001b[0m \u001b[32m━━━━━━━━━━━━━━━━━━━━\u001b[0m\u001b[37m\u001b[0m \u001b[1m5s\u001b[0m 23ms/step - loss: 4.8816e-04 - val_loss: 2.7717e-04\n",
            "Epoch 78/200\n",
            "\u001b[1m209/209\u001b[0m \u001b[32m━━━━━━━━━━━━━━━━━━━━\u001b[0m\u001b[37m\u001b[0m \u001b[1m3s\u001b[0m 17ms/step - loss: 5.2254e-04 - val_loss: 6.6690e-04\n",
            "Epoch 79/200\n",
            "\u001b[1m209/209\u001b[0m \u001b[32m━━━━━━━━━━━━━━━━━━━━\u001b[0m\u001b[37m\u001b[0m \u001b[1m4s\u001b[0m 17ms/step - loss: 5.1139e-04 - val_loss: 3.4722e-04\n",
            "Epoch 80/200\n",
            "\u001b[1m209/209\u001b[0m \u001b[32m━━━━━━━━━━━━━━━━━━━━\u001b[0m\u001b[37m\u001b[0m \u001b[1m4s\u001b[0m 18ms/step - loss: 6.0234e-04 - val_loss: 5.4267e-04\n",
            "Epoch 81/200\n",
            "\u001b[1m209/209\u001b[0m \u001b[32m━━━━━━━━━━━━━━━━━━━━\u001b[0m\u001b[37m\u001b[0m \u001b[1m4s\u001b[0m 21ms/step - loss: 4.9667e-04 - val_loss: 2.7411e-04\n",
            "Epoch 82/200\n",
            "\u001b[1m209/209\u001b[0m \u001b[32m━━━━━━━━━━━━━━━━━━━━\u001b[0m\u001b[37m\u001b[0m \u001b[1m4s\u001b[0m 17ms/step - loss: 5.4640e-04 - val_loss: 2.6666e-04\n",
            "Epoch 83/200\n",
            "\u001b[1m209/209\u001b[0m \u001b[32m━━━━━━━━━━━━━━━━━━━━\u001b[0m\u001b[37m\u001b[0m \u001b[1m4s\u001b[0m 17ms/step - loss: 4.8222e-04 - val_loss: 9.0906e-04\n",
            "Epoch 84/200\n",
            "\u001b[1m209/209\u001b[0m \u001b[32m━━━━━━━━━━━━━━━━━━━━\u001b[0m\u001b[37m\u001b[0m \u001b[1m6s\u001b[0m 19ms/step - loss: 5.5728e-04 - val_loss: 2.6799e-04\n",
            "Epoch 85/200\n",
            "\u001b[1m209/209\u001b[0m \u001b[32m━━━━━━━━━━━━━━━━━━━━\u001b[0m\u001b[37m\u001b[0m \u001b[1m5s\u001b[0m 17ms/step - loss: 4.9268e-04 - val_loss: 2.5039e-04\n",
            "Epoch 86/200\n",
            "\u001b[1m209/209\u001b[0m \u001b[32m━━━━━━━━━━━━━━━━━━━━\u001b[0m\u001b[37m\u001b[0m \u001b[1m6s\u001b[0m 23ms/step - loss: 5.3527e-04 - val_loss: 9.9199e-04\n",
            "Epoch 87/200\n",
            "\u001b[1m209/209\u001b[0m \u001b[32m━━━━━━━━━━━━━━━━━━━━\u001b[0m\u001b[37m\u001b[0m \u001b[1m4s\u001b[0m 17ms/step - loss: 4.6136e-04 - val_loss: 3.5508e-04\n",
            "Epoch 88/200\n",
            "\u001b[1m209/209\u001b[0m \u001b[32m━━━━━━━━━━━━━━━━━━━━\u001b[0m\u001b[37m\u001b[0m \u001b[1m5s\u001b[0m 17ms/step - loss: 4.8444e-04 - val_loss: 2.9699e-04\n",
            "Epoch 89/200\n",
            "\u001b[1m209/209\u001b[0m \u001b[32m━━━━━━━━━━━━━━━━━━━━\u001b[0m\u001b[37m\u001b[0m \u001b[1m6s\u001b[0m 20ms/step - loss: 5.2824e-04 - val_loss: 2.8380e-04\n",
            "Epoch 90/200\n",
            "\u001b[1m209/209\u001b[0m \u001b[32m━━━━━━━━━━━━━━━━━━━━\u001b[0m\u001b[37m\u001b[0m \u001b[1m4s\u001b[0m 17ms/step - loss: 5.5437e-04 - val_loss: 3.1564e-04\n",
            "Epoch 91/200\n",
            "\u001b[1m209/209\u001b[0m \u001b[32m━━━━━━━━━━━━━━━━━━━━\u001b[0m\u001b[37m\u001b[0m \u001b[1m4s\u001b[0m 17ms/step - loss: 5.0890e-04 - val_loss: 0.0022\n",
            "Epoch 92/200\n",
            "\u001b[1m209/209\u001b[0m \u001b[32m━━━━━━━━━━━━━━━━━━━━\u001b[0m\u001b[37m\u001b[0m \u001b[1m6s\u001b[0m 19ms/step - loss: 5.5813e-04 - val_loss: 3.6620e-04\n",
            "Epoch 93/200\n",
            "\u001b[1m209/209\u001b[0m \u001b[32m━━━━━━━━━━━━━━━━━━━━\u001b[0m\u001b[37m\u001b[0m \u001b[1m4s\u001b[0m 17ms/step - loss: 4.3096e-04 - val_loss: 2.6151e-04\n",
            "Epoch 94/200\n",
            "\u001b[1m209/209\u001b[0m \u001b[32m━━━━━━━━━━━━━━━━━━━━\u001b[0m\u001b[37m\u001b[0m \u001b[1m6s\u001b[0m 22ms/step - loss: 4.5648e-04 - val_loss: 2.7356e-04\n",
            "Epoch 95/200\n",
            "\u001b[1m209/209\u001b[0m \u001b[32m━━━━━━━━━━━━━━━━━━━━\u001b[0m\u001b[37m\u001b[0m \u001b[1m4s\u001b[0m 18ms/step - loss: 5.0364e-04 - val_loss: 0.0012\n",
            "Epoch 96/200\n",
            "\u001b[1m209/209\u001b[0m \u001b[32m━━━━━━━━━━━━━━━━━━━━\u001b[0m\u001b[37m\u001b[0m \u001b[1m4s\u001b[0m 17ms/step - loss: 5.5463e-04 - val_loss: 2.8712e-04\n",
            "Epoch 97/200\n",
            "\u001b[1m209/209\u001b[0m \u001b[32m━━━━━━━━━━━━━━━━━━━━\u001b[0m\u001b[37m\u001b[0m \u001b[1m4s\u001b[0m 18ms/step - loss: 4.9179e-04 - val_loss: 3.0487e-04\n",
            "Epoch 98/200\n",
            "\u001b[1m209/209\u001b[0m \u001b[32m━━━━━━━━━━━━━━━━━━━━\u001b[0m\u001b[37m\u001b[0m \u001b[1m5s\u001b[0m 17ms/step - loss: 4.6127e-04 - val_loss: 8.6759e-04\n",
            "Epoch 99/200\n",
            "\u001b[1m209/209\u001b[0m \u001b[32m━━━━━━━━━━━━━━━━━━━━\u001b[0m\u001b[37m\u001b[0m \u001b[1m5s\u001b[0m 17ms/step - loss: 5.1168e-04 - val_loss: 2.8250e-04\n",
            "Epoch 100/200\n",
            "\u001b[1m209/209\u001b[0m \u001b[32m━━━━━━━━━━━━━━━━━━━━\u001b[0m\u001b[37m\u001b[0m \u001b[1m6s\u001b[0m 22ms/step - loss: 5.1568e-04 - val_loss: 3.9262e-04\n",
            "Epoch 101/200\n",
            "\u001b[1m209/209\u001b[0m \u001b[32m━━━━━━━━━━━━━━━━━━━━\u001b[0m\u001b[37m\u001b[0m \u001b[1m4s\u001b[0m 17ms/step - loss: 5.3432e-04 - val_loss: 5.5582e-04\n",
            "Epoch 102/200\n",
            "\u001b[1m209/209\u001b[0m \u001b[32m━━━━━━━━━━━━━━━━━━━━\u001b[0m\u001b[37m\u001b[0m \u001b[1m5s\u001b[0m 19ms/step - loss: 4.6790e-04 - val_loss: 3.9136e-04\n",
            "Epoch 103/200\n",
            "\u001b[1m209/209\u001b[0m \u001b[32m━━━━━━━━━━━━━━━━━━━━\u001b[0m\u001b[37m\u001b[0m \u001b[1m5s\u001b[0m 17ms/step - loss: 5.2057e-04 - val_loss: 3.0626e-04\n",
            "Epoch 104/200\n",
            "\u001b[1m209/209\u001b[0m \u001b[32m━━━━━━━━━━━━━━━━━━━━\u001b[0m\u001b[37m\u001b[0m \u001b[1m4s\u001b[0m 17ms/step - loss: 5.0532e-04 - val_loss: 4.0316e-04\n",
            "Epoch 105/200\n",
            "\u001b[1m209/209\u001b[0m \u001b[32m━━━━━━━━━━━━━━━━━━━━\u001b[0m\u001b[37m\u001b[0m \u001b[1m6s\u001b[0m 23ms/step - loss: 5.1451e-04 - val_loss: 2.7067e-04\n"
          ]
        }
      ]
    },
    {
      "cell_type": "code",
      "source": [
        "\n",
        "# --- Evaluation ---\n",
        "y_pred = model.predict(X_test_seq)\n",
        "y_test_inv = y_scaler.inverse_transform(y_test_seq)\n",
        "y_pred_inv = y_scaler.inverse_transform(y_pred)\n",
        "\n",
        "mse = mean_squared_error(y_test_inv, y_pred_inv)\n",
        "rmse = np.sqrt(mse)\n",
        "mae = mean_absolute_error(y_test_inv, y_pred_inv)\n",
        "r2 = r2_score(y_test_inv, y_pred_inv)\n",
        "mape = mean_absolute_percentage_error(y_test_inv, y_pred_inv) * 100\n",
        "\n",
        "print(f\"📊 MSE: {mse:.4f}\")\n",
        "print(f\"📉 RMSE: {rmse:.4f}\")\n",
        "print(f\"📈 MAE: {mae:.4f}\")\n",
        "print(f\"🎯 R² Score: {r2:.4f}\")\n",
        "print(f\"MAPE: {mape:.2f}%\")"
      ],
      "metadata": {
        "colab": {
          "base_uri": "https://localhost:8080/"
        },
        "id": "DS_5lEW0CUjE",
        "outputId": "efff4d8d-84ec-4256-931b-ab1633513014"
      },
      "execution_count": null,
      "outputs": [
        {
          "output_type": "stream",
          "name": "stdout",
          "text": [
            "\u001b[1m12/12\u001b[0m \u001b[32m━━━━━━━━━━━━━━━━━━━━\u001b[0m\u001b[37m\u001b[0m \u001b[1m1s\u001b[0m 46ms/step\n",
            "📊 MSE: 33605.3333\n",
            "📉 RMSE: 183.3176\n",
            "📈 MAE: 141.1524\n",
            "🎯 R² Score: 0.9166\n",
            "MAPE: 0.82%\n"
          ]
        }
      ]
    },
    {
      "cell_type": "code",
      "source": [
        "\n",
        "plt.figure(figsize=(12,5))\n",
        "plt.plot(y_test_inv, label='Actual')\n",
        "plt.plot(y_pred_inv, label='Predicted')\n",
        "plt.legend()\n",
        "plt.title('DJIA Adj Close - Actual vs Predicted')\n",
        "plt.show()\n"
      ],
      "metadata": {
        "colab": {
          "base_uri": "https://localhost:8080/",
          "height": 468
        },
        "id": "mTccdgYDC5U9",
        "outputId": "6b45df24-477a-49d2-edd7-ea93efef8d4b"
      },
      "execution_count": null,
      "outputs": [
        {
          "output_type": "display_data",
          "data": {
            "text/plain": [
              "<Figure size 1200x500 with 1 Axes>"
            ],
            "image/png": "[encoded data removed]"
          },
          "metadata": {}
        }
      ]
    },
    {
      "cell_type": "code",
      "source": [
        "\n",
        "plt.plot(history.history['loss'], label='Train Loss')\n",
        "plt.plot(history.history['val_loss'], label='Val Loss')\n",
        "plt.legend()\n",
        "plt.title('Loss Curves')\n",
        "plt.show()\n"
      ],
      "metadata": {
        "colab": {
          "base_uri": "https://localhost:8080/",
          "height": 452
        },
        "id": "yLBaMKA3C5YX",
        "outputId": "2042c78c-dd0d-49ff-a0b6-03c9d4d427f2"
      },
      "execution_count": null,
      "outputs": [
        {
          "output_type": "display_data",
          "data": {
            "text/plain": [
              "<Figure size 640x480 with 1 Axes>"
            ],
            "image/png": "[encoded data removed]"
          },
          "metadata": {}
        }
      ]
    },
    {
      "cell_type": "code",
      "source": [
        "\n",
        "train_preds = model.predict(X_train_seq)\n",
        "print(\"Train R²:\", r2_score(y_scaler.inverse_transform(y_train_seq), y_scaler.inverse_transform(train_preds)))\n",
        "print(\"Val R²:\", r2_score(y_test_inv, y_pred_inv))"
      ],
      "metadata": {
        "colab": {
          "base_uri": "https://localhost:8080/"
        },
        "id": "K8FRixRjC9xs",
        "outputId": "0cf0f9b2-1e1e-43c2-9105-d3e361e74dab"
      },
      "execution_count": null,
      "outputs": [
        {
          "output_type": "stream",
          "name": "stdout",
          "text": [
            "\u001b[1m58/58\u001b[0m \u001b[32m━━━━━━━━━━━━━━━━━━━━\u001b[0m\u001b[37m\u001b[0m \u001b[1m1s\u001b[0m 14ms/step\n",
            "Train R²: 0.9978432252397745\n",
            "Val R²: 0.9165600527610313\n"
          ]
        }
      ]
    },
    {
      "cell_type": "code",
      "source": [],
      "metadata": {
        "id": "k8x9c_MgE9iU"
      },
      "execution_count": null,
      "outputs": []
    }
  ]
}